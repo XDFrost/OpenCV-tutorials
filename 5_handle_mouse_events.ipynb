{
 "cells": [
  {
   "cell_type": "code",
   "execution_count": 1,
   "metadata": {},
   "outputs": [
    {
     "name": "stdout",
     "output_type": "stream",
     "text": [
      "2.2.1\n",
      "4.10.0\n"
     ]
    }
   ],
   "source": [
    "import cv2\n",
    "import numpy as np \n",
    "\n",
    "print(np.__version__)\n",
    "print(cv2.__version__)"
   ]
  },
  {
   "cell_type": "code",
   "execution_count": 5,
   "metadata": {},
   "outputs": [
    {
     "name": "stdout",
     "output_type": "stream",
     "text": [
      "['EVENT_FLAG_ALTKEY', 'EVENT_FLAG_CTRLKEY', 'EVENT_FLAG_LBUTTON', 'EVENT_FLAG_MBUTTON', 'EVENT_FLAG_RBUTTON', 'EVENT_FLAG_SHIFTKEY', 'EVENT_LBUTTONDBLCLK', 'EVENT_LBUTTONDOWN', 'EVENT_LBUTTONUP', 'EVENT_MBUTTONDBLCLK', 'EVENT_MBUTTONDOWN', 'EVENT_MBUTTONUP', 'EVENT_MOUSEHWHEEL', 'EVENT_MOUSEMOVE', 'EVENT_MOUSEWHEEL', 'EVENT_RBUTTONDBLCLK', 'EVENT_RBUTTONDOWN', 'EVENT_RBUTTONUP']\n"
     ]
    }
   ],
   "source": [
    "events = [i for i in dir(cv2) if 'EVENT' in i]      # events in cv2 package\n",
    "print(events)"
   ]
  },
  {
   "cell_type": "code",
   "execution_count": 6,
   "metadata": {},
   "outputs": [],
   "source": [
    "def mouseCallback(event, x_coordinate, y_coordinate, flags, params):\n",
    "    if(cv2.EVENT_LBUTTONDOWN):\n",
    "        print(\"X:\", x_coordinate, \" \", \"Y:\", y_coordinate)\n",
    "        font = cv2.FONT_HERSHEY_SIMPLEX\n",
    "        strXY = f\"X: {x_coordinate}, Y: {y_coordinate}\"\n",
    "        cv2.putText(img, strXY, (x_coordinate,y_coordinate), font, 1, (0,255,255), 2)\n",
    "        cv2.imshow(\"IMAGE WINDOW\", img)\n",
    "\n",
    "    if(event == cv2.EVENT_RBUTTONDOWN):\n",
    "        # EXTRACTING COLORS CHANNELS FROM IMAGE\n",
    "        \n",
    "        # blue = img[y_coordinate, x_coordinate, 0]\n",
    "        # green = img[y_coordinate, x_coordinate, 1] \n",
    "        # red = img[y_coordinate, x_coordinate, 2]     \n",
    "        \n",
    "        font = cv2.FONT_HERSHEY_SIMPLEX\n",
    "        strXY = f\"{blue}, {green}, {red}\"\n",
    "        cv2.putText(img, strXY, (x_coordinate, y_coordinate), font, .5, (255,255,0), 2)\n",
    "        cv2.imshow(\"IMAGE WINDOW\", img)"
   ]
  },
  {
   "cell_type": "code",
   "execution_count": null,
   "metadata": {},
   "outputs": [],
   "source": [
    "img = np.zeros((512, 512, 3), np.uint8)         # Creating a black image\n",
    "cv2.imshow(\"IMAGE WINDOW\", img)"
   ]
  },
  {
   "cell_type": "code",
   "execution_count": 7,
   "metadata": {},
   "outputs": [],
   "source": [
    "cv2.setMouseCallback(\"IMAGE WINDOW\", mouseCallback)         # setting callback function for mouse event\n",
    "                                                            # Takes 2 params:\n",
    "                                                            # 1 -> image window name (SHOULD BE SAME FOR ALL OVER)\n",
    "                                                            # event\n",
    "cv2.waitKey(0)\n",
    "cv2.destroyAllWindows()"
   ]
  }
 ],
 "metadata": {
  "kernelspec": {
   "display_name": "venv",
   "language": "python",
   "name": "python3"
  },
  "language_info": {
   "codemirror_mode": {
    "name": "ipython",
    "version": 3
   },
   "file_extension": ".py",
   "mimetype": "text/x-python",
   "name": "python",
   "nbconvert_exporter": "python",
   "pygments_lexer": "ipython3",
   "version": "3.12.8"
  }
 },
 "nbformat": 4,
 "nbformat_minor": 2
}
