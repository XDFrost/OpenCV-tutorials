{
 "cells": [
  {
   "cell_type": "code",
   "execution_count": 3,
   "metadata": {},
   "outputs": [
    {
     "data": {
      "text/plain": [
       "'4.10.0'"
      ]
     },
     "execution_count": 3,
     "metadata": {},
     "output_type": "execute_result"
    }
   ],
   "source": [
    "import cv2\n",
    "cv2.__version__"
   ]
  },
  {
   "cell_type": "code",
   "execution_count": null,
   "metadata": {},
   "outputs": [
    {
     "name": "stderr",
     "output_type": "stream",
     "text": [
      "2025-01-12 14:50:37.284 Python[26424:998625] WARNING: Secure coding is not enabled for restorable state! Enable secure coding by implementing NSApplicationDelegate.applicationSupportsSecureRestorableState: and returning YES.\n"
     ]
    },
    {
     "ename": "",
     "evalue": "",
     "output_type": "error",
     "traceback": [
      "\u001b[1;31mThe Kernel crashed while executing code in the current cell or a previous cell. \n",
      "\u001b[1;31mPlease review the code in the cell(s) to identify a possible cause of the failure. \n",
      "\u001b[1;31mClick <a href='https://aka.ms/vscodeJupyterKernelCrash'>here</a> for more info. \n",
      "\u001b[1;31mView Jupyter <a href='command:jupyter.viewOutput'>log</a> for further details."
     ]
    }
   ],
   "source": [
    "# capturing video / livestream\n",
    "\n",
    "cap = cv2.VideoCapture(0)               # Takes 1 arg:\n",
    "                                        # input file name -> Reads a mp4 or avi file\n",
    "                                        # OR index -> To read from camera (can be 0 or -1 depeneding on device)\n",
    "                                        # For multiple cameras using indexes like 1, 2, 3\n",
    "while(cap.isOpened()):                  # isOpened() checks if video is getting captured or not\n",
    "    ret, frame = cap.read()             # read() method returns:\n",
    "                                        # boolean value  ->  True if frame is available\n",
    "                                        # A matrix  ->  Representing frame\n",
    "    cv2.imshow(\"Frame window\", frame)\n",
    "    if(cv2.waitKey(1) == ord('s')):     # if waitKey(0) happens, the window will freeze until any key event happens ; Here window is waiting for 1ms for a key event. This allows window to update continuously as the pause b/w frames is very little\n",
    "        break\n",
    "\n",
    "cap.release()                           # releasing the resources \n",
    "cv2.destroyAllWindows()"
   ]
  },
  {
   "cell_type": "code",
   "execution_count": null,
   "metadata": {},
   "outputs": [],
   "source": [
    "# converting video to grayscale\n",
    "\n",
    "cap = cv2.VideoCapture(\"files/Megamind.avi\")               \n",
    "while(cap.isOpened()):\n",
    "    ret, frame = cap.read()     \n",
    "\n",
    "    gray = cv2.cvtColor(frame, cv2.COLOR_BGR2GRAY)      # takes inital frame and conversion we want to do as argument \n",
    "\n",
    "    # cv2.CAP_PROP_...                                  # access the properties of captured video\n",
    "\n",
    "    cv2.imshow(\"Frame window\", gray)\n",
    "    if(cv2.waitKey(1) == ord('s')):     \n",
    "        break\n",
    "\n",
    "cap.release()                          \n",
    "cv2.destroyAllWindows()"
   ]
  },
  {
   "cell_type": "code",
   "execution_count": null,
   "metadata": {},
   "outputs": [],
   "source": [
    "# Writing videos in a file\n",
    "\n",
    "cap = cv2.VideoCapture(\"files/Megamind.avi\")    \n",
    "# fourcc = cv2.VideoWriter_fourcc('X', 'V', 'I', 'D')\n",
    "fourcc = cv2.VideoWriter_fourcc(*'XVID')        # specifying fourcc code. Here, 'XVID' is code for .avi file\n",
    "out = cv2.VideoWriter('OpenCV/written_files/megamind_copy.avi', fourcc, 20.0, (4,3))        \n",
    "\n",
    "                        # out takes  arguments:\n",
    "                            # 1 -> Path to video file\n",
    "                            # 2 -> fourcc code (Four Character Code) (a 4 byte code to specify video codec) ; Defines the format in which video frames will be encoded\n",
    "                            # 3 -> number of frames per second\n",
    "                            # 4 -> size (height, width)\n",
    "\n",
    "while(cap.isOpened()):\n",
    "    ret, frame = cap.read() \n",
    "\n",
    "    gray = cv2.cvtColor(frame, cv2.COLOR_BGR2GRAY)    \n",
    "    \n",
    "    if(ret == True):    \n",
    "        out.write(frame)        # writing frames\n",
    "        cv2.imshow(\"Frame window\", gray)\n",
    "        if(cv2.waitKey(1) == ord('s')):     \n",
    "            break\n",
    "    else:\n",
    "        break\n",
    "\n",
    "cap.release()      \n",
    "out.release()                    \n",
    "cv2.destroyAllWindows()"
   ]
  }
 ],
 "metadata": {
  "kernelspec": {
   "display_name": "venv",
   "language": "python",
   "name": "python3"
  },
  "language_info": {
   "codemirror_mode": {
    "name": "ipython",
    "version": 3
   },
   "file_extension": ".py",
   "mimetype": "text/x-python",
   "name": "python",
   "nbconvert_exporter": "python",
   "pygments_lexer": "ipython3",
   "version": "3.12.8"
  }
 },
 "nbformat": 4,
 "nbformat_minor": 2
}
