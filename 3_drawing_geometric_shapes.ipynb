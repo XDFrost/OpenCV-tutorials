{
 "cells": [
  {
   "cell_type": "code",
   "execution_count": 2,
   "metadata": {},
   "outputs": [
    {
     "name": "stdout",
     "output_type": "stream",
     "text": [
      "4.10.0\n",
      "2.0.2\n"
     ]
    }
   ],
   "source": [
    "import cv2\n",
    "import numpy as np\n",
    "print(cv2.__version__)\n",
    "print(np.__version__)"
   ]
  },
  {
   "cell_type": "code",
   "execution_count": 3,
   "metadata": {},
   "outputs": [],
   "source": [
    "img_path = \"files/lena.jpg\""
   ]
  },
  {
   "cell_type": "code",
   "execution_count": null,
   "metadata": {},
   "outputs": [],
   "source": [
    "# Drawing a line on image\n",
    "\n",
    "img = cv2.imread(img_path, 0)\n",
    "\n",
    "img = cv2.line(img, (0,0), (255,255), (255, 0, 0), 5)         # Takes following args:\n",
    "                                                              # 1 -> image \n",
    "                                                              # 2 -> starting point coordinates\n",
    "                                                              # 3 -> ending point coordinates\n",
    "                                                              # 4 -> color ; BGR (Blue green red) format as image is reversed\n",
    "                                                              # 5 -> thickness ; starts from 1 ; if set -1, it'll fill the entire shape\n",
    "\n",
    "\n",
    "# Drawing a arrow\n",
    "img = cv2.arrowedLine(img, (0,255), (255,255), (255, 0, 0), 5) \n",
    "\n",
    "# Drawing a rectangle\n",
    "img = cv2.rectangle(img, (384, 0), (510, 128), (0, 0, 255), 5)          # Takes following args:\n",
    "                                                                        # 1 -> image\n",
    "                                                                        # 2 -> top left vertex coordinates\n",
    "                                                                        # 3 -> lower right vertex coordinates\n",
    "                                                                        # 4 -> color\n",
    "                                                                        # 5 -> thickness\n",
    "\n",
    "# Drawing a circle\n",
    "img = cv2.circle(img, (447, 63), 63, (0,255,0), 5)         # Takes following args:\n",
    "                                                           # 1 -> image\n",
    "                                                           # 2 -> center position\n",
    "                                                           # 3 -> radius\n",
    "                                                           # 4 -> color\n",
    "                                                           # 5 -> Thickness\n",
    "\n",
    "# Text on image\n",
    "font = cv2.FONT_HERSHEY_SIMPLEX\n",
    "img = cv2.putText(img, 'OPENCV', (10,500), font, 4, (255, 255, 255), 10, cv2.LINE_AA)        # Takes following args:\n",
    "                                                    # 1 -> image\n",
    "                                                    # 2 -> text\n",
    "                                                    # 3 -> origin coordinates\n",
    "                                                    # 4 -> FontFace\n",
    "                                                    # 5 -> Fontsize\n",
    "                                                    # 6 -> color\n",
    "                                                    # 7 -> thickness\n",
    "                                                    # 8 -> Line type\n",
    "\n",
    "cv2.imshow(\"Image Window\", img)\n",
    "cv2.waitKey(0)\n",
    "cv2.destroyAllWindows()"
   ]
  },
  {
   "cell_type": "code",
   "execution_count": null,
   "metadata": {},
   "outputs": [],
   "source": [
    "# Creating image using numpy\n",
    "\n",
    "img = np.zeros([512, 512, 3], np.uint8)         # Gives a black image of size 512x512"
   ]
  }
 ],
 "metadata": {
  "kernelspec": {
   "display_name": "venv",
   "language": "python",
   "name": "python3"
  },
  "language_info": {
   "codemirror_mode": {
    "name": "ipython",
    "version": 3
   },
   "file_extension": ".py",
   "mimetype": "text/x-python",
   "name": "python",
   "nbconvert_exporter": "python",
   "pygments_lexer": "ipython3",
   "version": "3.12.8"
  }
 },
 "nbformat": 4,
 "nbformat_minor": 2
}
