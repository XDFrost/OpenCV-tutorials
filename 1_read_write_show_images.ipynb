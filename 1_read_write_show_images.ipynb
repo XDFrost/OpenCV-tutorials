{
 "cells": [
  {
   "cell_type": "code",
   "execution_count": 1,
   "metadata": {},
   "outputs": [
    {
     "data": {
      "text/plain": [
       "'4.10.0'"
      ]
     },
     "execution_count": 1,
     "metadata": {},
     "output_type": "execute_result"
    }
   ],
   "source": [
    "import cv2\n",
    "cv2.__version__"
   ]
  },
  {
   "cell_type": "code",
   "execution_count": 2,
   "metadata": {},
   "outputs": [],
   "source": [
    "img_path = \"files/lena.jpg\""
   ]
  },
  {
   "cell_type": "code",
   "execution_count": 3,
   "metadata": {},
   "outputs": [],
   "source": [
    "# Read images\n",
    "\n",
    "img = cv2.imread(img_path, 0)     # takes 2 args: image path and flag ; Flags -> 0, 1, -1\n",
    "                                  # 1 -> Loads colored images\n",
    "                                  # 0 -> Loads images in grayscale mode. \n",
    "                                  # -1 -> Loads images as such including alpha channel ; IMAGE LOADS WITHOUT ANY CHANGE \n",
    "\n",
    "# Returns a matrix of pixels"
   ]
  },
  {
   "cell_type": "code",
   "execution_count": 4,
   "metadata": {},
   "outputs": [
    {
     "name": "stdout",
     "output_type": "stream",
     "text": [
      "[[163 162 161 ... 170 154 130]\n",
      " [162 162 162 ... 173 155 126]\n",
      " [162 162 163 ... 170 155 128]\n",
      " ...\n",
      " [ 43  42  51 ... 103 101  99]\n",
      " [ 41  42  55 ... 103 105 106]\n",
      " [ 42  44  57 ... 102 106 109]]\n"
     ]
    }
   ],
   "source": [
    "print(img)"
   ]
  },
  {
   "cell_type": "code",
   "execution_count": null,
   "metadata": {},
   "outputs": [],
   "source": [
    "# Display Images\n",
    "\n",
    "cv2.imshow('image window', img)       # takes 2 args:\n",
    "                                      # 1st -> name of window which will show image\n",
    "                                      # 2nd -> image variable read using imread\n",
    "cv2.waitKey(5000)                     # keyboard binding function ; takes time in ms to show the image\n",
    "                                      # if given 0, it'll wait for any key press \n",
    "cv2.destroyAllWindows()               # destroys all windows created"
   ]
  },
  {
   "cell_type": "code",
   "execution_count": 18,
   "metadata": {},
   "outputs": [
    {
     "data": {
      "text/plain": [
       "True"
      ]
     },
     "execution_count": 18,
     "metadata": {},
     "output_type": "execute_result"
    }
   ],
   "source": [
    "# Writing image\n",
    "\n",
    "cv2.imwrite('written_files/lena_copy.jpg', img)        # writes an image as a file ; Takes 2 parameters:\n",
    "                                                        # 1 -> image path\n",
    "                                                        # 2 -> image"
   ]
  },
  {
   "cell_type": "code",
   "execution_count": null,
   "metadata": {},
   "outputs": [],
   "source": [
    "# Assigning keys to destroy the window or save the image\n",
    "\n",
    "k = cv2.waitKey(0)      # 27 -> ESC key\n",
    "\n",
    "if(k == 27):\n",
    "    print(\"DESTROYED\")\n",
    "    cv2.destroyAllWindows()\n",
    "elif(k == ord('s')):\n",
    "    print(\"SAVED AND DESTROYED\")\n",
    "    cv2.imwrite('saved_using_key_lena.png', img)\n",
    "    cv2.destroyAllWindows()"
   ]
  }
 ],
 "metadata": {
  "kernelspec": {
   "display_name": "venv",
   "language": "python",
   "name": "python3"
  },
  "language_info": {
   "codemirror_mode": {
    "name": "ipython",
    "version": 3
   },
   "file_extension": ".py",
   "mimetype": "text/x-python",
   "name": "python",
   "nbconvert_exporter": "python",
   "pygments_lexer": "ipython3",
   "version": "3.12.8"
  }
 },
 "nbformat": 4,
 "nbformat_minor": 2
}
